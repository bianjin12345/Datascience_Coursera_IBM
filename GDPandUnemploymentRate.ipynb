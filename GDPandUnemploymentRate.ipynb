{
    "cells": [
        {
            "metadata": {},
            "cell_type": "code",
            "source": "pwd #check working directory",
            "execution_count": 2,
            "outputs": [
                {
                    "output_type": "execute_result",
                    "execution_count": 2,
                    "data": {
                        "text/plain": "'/home/dsxuser/work'"
                    },
                    "metadata": {}
                }
            ]
        },
        {
            "metadata": {},
            "cell_type": "code",
            "source": "#import GDP data\nimport types\nimport pandas as pd\nfrom botocore.client import Config\nimport ibm_boto3\n\ndef __iter__(self): return 0\n\n# @hidden_cell\n# The following code accesses a file in your IBM Cloud Object Storage. It includes your credentials.\n# You might want to remove those credentials before you share the notebook.\nclient_61c7475c72374a1b9685e4af09d23afc = ibm_boto3.client(service_name='s3',\n    ibm_api_key_id='mF35U0ZTQ_CwRp9e8hK3fgvaENb5n5bKZfYPv4Ec7uiP',\n    ibm_auth_endpoint=\"https://iam.ng.bluemix.net/oidc/token\",\n    config=Config(signature_version='oauth'),\n    endpoint_url='https://s3-api.us-geo.objectstorage.service.networklayer.com')\n\n\nbody = client_61c7475c72374a1b9685e4af09d23afc.get_object(Bucket='jin-donotdelete-pr-he56bked6i8po3',Key='GDP-2.csv')['Body']\n# add missing __iter__ method, so pandas accepts body as file-like object\nif not hasattr(body, \"__iter__\"): body.__iter__ = types.MethodType( __iter__, body )\n\ndata = pd.read_csv(body)\ndata.head()\n",
            "execution_count": 5,
            "outputs": [
                {
                    "output_type": "execute_result",
                    "execution_count": 5,
                    "data": {
                        "text/plain": "         DATE      GDP\n0  1948-01-01  265.742\n1  1948-04-01  272.567\n2  1948-07-01  279.196\n3  1948-10-01  280.366\n4  1949-01-01  275.034",
                        "text/html": "<div>\n<style scoped>\n    .dataframe tbody tr th:only-of-type {\n        vertical-align: middle;\n    }\n\n    .dataframe tbody tr th {\n        vertical-align: top;\n    }\n\n    .dataframe thead th {\n        text-align: right;\n    }\n</style>\n<table border=\"1\" class=\"dataframe\">\n  <thead>\n    <tr style=\"text-align: right;\">\n      <th></th>\n      <th>DATE</th>\n      <th>GDP</th>\n    </tr>\n  </thead>\n  <tbody>\n    <tr>\n      <th>0</th>\n      <td>1948-01-01</td>\n      <td>265.742</td>\n    </tr>\n    <tr>\n      <th>1</th>\n      <td>1948-04-01</td>\n      <td>272.567</td>\n    </tr>\n    <tr>\n      <th>2</th>\n      <td>1948-07-01</td>\n      <td>279.196</td>\n    </tr>\n    <tr>\n      <th>3</th>\n      <td>1948-10-01</td>\n      <td>280.366</td>\n    </tr>\n    <tr>\n      <th>4</th>\n      <td>1949-01-01</td>\n      <td>275.034</td>\n    </tr>\n  </tbody>\n</table>\n</div>"
                    },
                    "metadata": {}
                }
            ]
        },
        {
            "metadata": {},
            "cell_type": "code",
            "source": "len(data) #find the length of the data",
            "execution_count": 19,
            "outputs": [
                {
                    "output_type": "execute_result",
                    "execution_count": 19,
                    "data": {
                        "text/plain": "287"
                    },
                    "metadata": {}
                }
            ]
        },
        {
            "metadata": {},
            "cell_type": "code",
            "source": "GDP=data.sort_values (by = \"DATE\") #sort data",
            "execution_count": null,
            "outputs": []
        },
        {
            "metadata": {},
            "cell_type": "code",
            "source": "GDP.head() #find first five data",
            "execution_count": 21,
            "outputs": [
                {
                    "output_type": "execute_result",
                    "execution_count": 21,
                    "data": {
                        "text/plain": "         DATE      GDP\n0  1948-01-01  265.742\n1  1948-04-01  272.567\n2  1948-07-01  279.196\n3  1948-10-01  280.366\n4  1949-01-01  275.034",
                        "text/html": "<div>\n<style scoped>\n    .dataframe tbody tr th:only-of-type {\n        vertical-align: middle;\n    }\n\n    .dataframe tbody tr th {\n        vertical-align: top;\n    }\n\n    .dataframe thead th {\n        text-align: right;\n    }\n</style>\n<table border=\"1\" class=\"dataframe\">\n  <thead>\n    <tr style=\"text-align: right;\">\n      <th></th>\n      <th>DATE</th>\n      <th>GDP</th>\n    </tr>\n  </thead>\n  <tbody>\n    <tr>\n      <th>0</th>\n      <td>1948-01-01</td>\n      <td>265.742</td>\n    </tr>\n    <tr>\n      <th>1</th>\n      <td>1948-04-01</td>\n      <td>272.567</td>\n    </tr>\n    <tr>\n      <th>2</th>\n      <td>1948-07-01</td>\n      <td>279.196</td>\n    </tr>\n    <tr>\n      <th>3</th>\n      <td>1948-10-01</td>\n      <td>280.366</td>\n    </tr>\n    <tr>\n      <th>4</th>\n      <td>1949-01-01</td>\n      <td>275.034</td>\n    </tr>\n  </tbody>\n</table>\n</div>"
                    },
                    "metadata": {}
                }
            ]
        },
        {
            "metadata": {},
            "cell_type": "code",
            "source": "GDP1=GDP['GDP'] #extract GDP column\n",
            "execution_count": 90,
            "outputs": [
                {
                    "output_type": "execute_result",
                    "execution_count": 90,
                    "data": {
                        "text/plain": "0        265.742\n1        272.567\n2        279.196\n3        280.366\n4        275.034\n5        271.351\n6        272.889\n7        270.627\n8        280.828\n9        290.383\n10       308.153\n11       319.945\n12       336.000\n13       344.090\n14       351.385\n15       356.178\n16       359.820\n17       361.030\n18       367.701\n19       380.812\n20       387.980\n21       391.749\n22       391.171\n23       385.970\n24       385.345\n25       386.121\n26       390.996\n27       399.734\n28       413.073\n29       421.532\n         ...    \n257    16152.257\n258    16257.151\n259    16358.863\n260    16569.591\n261    16637.926\n262    16848.748\n263    17083.137\n264    17104.555\n265    17432.909\n266    17721.657\n267    17849.912\n268    17984.178\n269    18219.405\n270    18344.713\n271    18350.825\n272    18424.283\n273    18637.253\n274    18806.743\n275    18991.883\n276    19190.431\n277    19356.649\n278    19611.704\n279    19918.910\n280    20163.159\n281    20510.177\n282    20749.752\n283    20897.804\n284    21098.827\n285    21340.267\n286    21525.819\nName: GDP, Length: 287, dtype: float64"
                    },
                    "metadata": {}
                }
            ]
        },
        {
            "metadata": {},
            "cell_type": "code",
            "source": "GDP2=GDP1.diff(periods=1) #find quarterly GDP difference by differencing ",
            "execution_count": 91,
            "outputs": []
        },
        {
            "metadata": {},
            "cell_type": "code",
            "source": "GDP['GDPDIFF']=GDP2\nGDP                #append the GDPDIFF column",
            "execution_count": 89,
            "outputs": [
                {
                    "output_type": "execute_result",
                    "execution_count": 89,
                    "data": {
                        "text/plain": "           DATE        GDP  GDPDIFF\n0    1948-01-01    265.742      NaN\n1    1948-04-01    272.567    6.825\n2    1948-07-01    279.196    6.629\n3    1948-10-01    280.366    1.170\n4    1949-01-01    275.034   -5.332\n5    1949-04-01    271.351   -3.683\n6    1949-07-01    272.889    1.538\n7    1949-10-01    270.627   -2.262\n8    1950-01-01    280.828   10.201\n9    1950-04-01    290.383    9.555\n10   1950-07-01    308.153   17.770\n11   1950-10-01    319.945   11.792\n12   1951-01-01    336.000   16.055\n13   1951-04-01    344.090    8.090\n14   1951-07-01    351.385    7.295\n15   1951-10-01    356.178    4.793\n16   1952-01-01    359.820    3.642\n17   1952-04-01    361.030    1.210\n18   1952-07-01    367.701    6.671\n19   1952-10-01    380.812   13.111\n20   1953-01-01    387.980    7.168\n21   1953-04-01    391.749    3.769\n22   1953-07-01    391.171   -0.578\n23   1953-10-01    385.970   -5.201\n24   1954-01-01    385.345   -0.625\n25   1954-04-01    386.121    0.776\n26   1954-07-01    390.996    4.875\n27   1954-10-01    399.734    8.738\n28   1955-01-01    413.073   13.339\n29   1955-04-01    421.532    8.459\n..          ...        ...      ...\n257  2012-04-01  16152.257  132.499\n258  2012-07-01  16257.151  104.894\n259  2012-10-01  16358.863  101.712\n260  2013-01-01  16569.591  210.728\n261  2013-04-01  16637.926   68.335\n262  2013-07-01  16848.748  210.822\n263  2013-10-01  17083.137  234.389\n264  2014-01-01  17104.555   21.418\n265  2014-04-01  17432.909  328.354\n266  2014-07-01  17721.657  288.748\n267  2014-10-01  17849.912  128.255\n268  2015-01-01  17984.178  134.266\n269  2015-04-01  18219.405  235.227\n270  2015-07-01  18344.713  125.308\n271  2015-10-01  18350.825    6.112\n272  2016-01-01  18424.283   73.458\n273  2016-04-01  18637.253  212.970\n274  2016-07-01  18806.743  169.490\n275  2016-10-01  18991.883  185.140\n276  2017-01-01  19190.431  198.548\n277  2017-04-01  19356.649  166.218\n278  2017-07-01  19611.704  255.055\n279  2017-10-01  19918.910  307.206\n280  2018-01-01  20163.159  244.249\n281  2018-04-01  20510.177  347.018\n282  2018-07-01  20749.752  239.575\n283  2018-10-01  20897.804  148.052\n284  2019-01-01  21098.827  201.023\n285  2019-04-01  21340.267  241.440\n286  2019-07-01  21525.819  185.552\n\n[287 rows x 3 columns]",
                        "text/html": "<div>\n<style scoped>\n    .dataframe tbody tr th:only-of-type {\n        vertical-align: middle;\n    }\n\n    .dataframe tbody tr th {\n        vertical-align: top;\n    }\n\n    .dataframe thead th {\n        text-align: right;\n    }\n</style>\n<table border=\"1\" class=\"dataframe\">\n  <thead>\n    <tr style=\"text-align: right;\">\n      <th></th>\n      <th>DATE</th>\n      <th>GDP</th>\n      <th>GDPDIFF</th>\n    </tr>\n  </thead>\n  <tbody>\n    <tr>\n      <th>0</th>\n      <td>1948-01-01</td>\n      <td>265.742</td>\n      <td>NaN</td>\n    </tr>\n    <tr>\n      <th>1</th>\n      <td>1948-04-01</td>\n      <td>272.567</td>\n      <td>6.825</td>\n    </tr>\n    <tr>\n      <th>2</th>\n      <td>1948-07-01</td>\n      <td>279.196</td>\n      <td>6.629</td>\n    </tr>\n    <tr>\n      <th>3</th>\n      <td>1948-10-01</td>\n      <td>280.366</td>\n      <td>1.170</td>\n    </tr>\n    <tr>\n      <th>4</th>\n      <td>1949-01-01</td>\n      <td>275.034</td>\n      <td>-5.332</td>\n    </tr>\n    <tr>\n      <th>5</th>\n      <td>1949-04-01</td>\n      <td>271.351</td>\n      <td>-3.683</td>\n    </tr>\n    <tr>\n      <th>6</th>\n      <td>1949-07-01</td>\n      <td>272.889</td>\n      <td>1.538</td>\n    </tr>\n    <tr>\n      <th>7</th>\n      <td>1949-10-01</td>\n      <td>270.627</td>\n      <td>-2.262</td>\n    </tr>\n    <tr>\n      <th>8</th>\n      <td>1950-01-01</td>\n      <td>280.828</td>\n      <td>10.201</td>\n    </tr>\n    <tr>\n      <th>9</th>\n      <td>1950-04-01</td>\n      <td>290.383</td>\n      <td>9.555</td>\n    </tr>\n    <tr>\n      <th>10</th>\n      <td>1950-07-01</td>\n      <td>308.153</td>\n      <td>17.770</td>\n    </tr>\n    <tr>\n      <th>11</th>\n      <td>1950-10-01</td>\n      <td>319.945</td>\n      <td>11.792</td>\n    </tr>\n    <tr>\n      <th>12</th>\n      <td>1951-01-01</td>\n      <td>336.000</td>\n      <td>16.055</td>\n    </tr>\n    <tr>\n      <th>13</th>\n      <td>1951-04-01</td>\n      <td>344.090</td>\n      <td>8.090</td>\n    </tr>\n    <tr>\n      <th>14</th>\n      <td>1951-07-01</td>\n      <td>351.385</td>\n      <td>7.295</td>\n    </tr>\n    <tr>\n      <th>15</th>\n      <td>1951-10-01</td>\n      <td>356.178</td>\n      <td>4.793</td>\n    </tr>\n    <tr>\n      <th>16</th>\n      <td>1952-01-01</td>\n      <td>359.820</td>\n      <td>3.642</td>\n    </tr>\n    <tr>\n      <th>17</th>\n      <td>1952-04-01</td>\n      <td>361.030</td>\n      <td>1.210</td>\n    </tr>\n    <tr>\n      <th>18</th>\n      <td>1952-07-01</td>\n      <td>367.701</td>\n      <td>6.671</td>\n    </tr>\n    <tr>\n      <th>19</th>\n      <td>1952-10-01</td>\n      <td>380.812</td>\n      <td>13.111</td>\n    </tr>\n    <tr>\n      <th>20</th>\n      <td>1953-01-01</td>\n      <td>387.980</td>\n      <td>7.168</td>\n    </tr>\n    <tr>\n      <th>21</th>\n      <td>1953-04-01</td>\n      <td>391.749</td>\n      <td>3.769</td>\n    </tr>\n    <tr>\n      <th>22</th>\n      <td>1953-07-01</td>\n      <td>391.171</td>\n      <td>-0.578</td>\n    </tr>\n    <tr>\n      <th>23</th>\n      <td>1953-10-01</td>\n      <td>385.970</td>\n      <td>-5.201</td>\n    </tr>\n    <tr>\n      <th>24</th>\n      <td>1954-01-01</td>\n      <td>385.345</td>\n      <td>-0.625</td>\n    </tr>\n    <tr>\n      <th>25</th>\n      <td>1954-04-01</td>\n      <td>386.121</td>\n      <td>0.776</td>\n    </tr>\n    <tr>\n      <th>26</th>\n      <td>1954-07-01</td>\n      <td>390.996</td>\n      <td>4.875</td>\n    </tr>\n    <tr>\n      <th>27</th>\n      <td>1954-10-01</td>\n      <td>399.734</td>\n      <td>8.738</td>\n    </tr>\n    <tr>\n      <th>28</th>\n      <td>1955-01-01</td>\n      <td>413.073</td>\n      <td>13.339</td>\n    </tr>\n    <tr>\n      <th>29</th>\n      <td>1955-04-01</td>\n      <td>421.532</td>\n      <td>8.459</td>\n    </tr>\n    <tr>\n      <th>...</th>\n      <td>...</td>\n      <td>...</td>\n      <td>...</td>\n    </tr>\n    <tr>\n      <th>257</th>\n      <td>2012-04-01</td>\n      <td>16152.257</td>\n      <td>132.499</td>\n    </tr>\n    <tr>\n      <th>258</th>\n      <td>2012-07-01</td>\n      <td>16257.151</td>\n      <td>104.894</td>\n    </tr>\n    <tr>\n      <th>259</th>\n      <td>2012-10-01</td>\n      <td>16358.863</td>\n      <td>101.712</td>\n    </tr>\n    <tr>\n      <th>260</th>\n      <td>2013-01-01</td>\n      <td>16569.591</td>\n      <td>210.728</td>\n    </tr>\n    <tr>\n      <th>261</th>\n      <td>2013-04-01</td>\n      <td>16637.926</td>\n      <td>68.335</td>\n    </tr>\n    <tr>\n      <th>262</th>\n      <td>2013-07-01</td>\n      <td>16848.748</td>\n      <td>210.822</td>\n    </tr>\n    <tr>\n      <th>263</th>\n      <td>2013-10-01</td>\n      <td>17083.137</td>\n      <td>234.389</td>\n    </tr>\n    <tr>\n      <th>264</th>\n      <td>2014-01-01</td>\n      <td>17104.555</td>\n      <td>21.418</td>\n    </tr>\n    <tr>\n      <th>265</th>\n      <td>2014-04-01</td>\n      <td>17432.909</td>\n      <td>328.354</td>\n    </tr>\n    <tr>\n      <th>266</th>\n      <td>2014-07-01</td>\n      <td>17721.657</td>\n      <td>288.748</td>\n    </tr>\n    <tr>\n      <th>267</th>\n      <td>2014-10-01</td>\n      <td>17849.912</td>\n      <td>128.255</td>\n    </tr>\n    <tr>\n      <th>268</th>\n      <td>2015-01-01</td>\n      <td>17984.178</td>\n      <td>134.266</td>\n    </tr>\n    <tr>\n      <th>269</th>\n      <td>2015-04-01</td>\n      <td>18219.405</td>\n      <td>235.227</td>\n    </tr>\n    <tr>\n      <th>270</th>\n      <td>2015-07-01</td>\n      <td>18344.713</td>\n      <td>125.308</td>\n    </tr>\n    <tr>\n      <th>271</th>\n      <td>2015-10-01</td>\n      <td>18350.825</td>\n      <td>6.112</td>\n    </tr>\n    <tr>\n      <th>272</th>\n      <td>2016-01-01</td>\n      <td>18424.283</td>\n      <td>73.458</td>\n    </tr>\n    <tr>\n      <th>273</th>\n      <td>2016-04-01</td>\n      <td>18637.253</td>\n      <td>212.970</td>\n    </tr>\n    <tr>\n      <th>274</th>\n      <td>2016-07-01</td>\n      <td>18806.743</td>\n      <td>169.490</td>\n    </tr>\n    <tr>\n      <th>275</th>\n      <td>2016-10-01</td>\n      <td>18991.883</td>\n      <td>185.140</td>\n    </tr>\n    <tr>\n      <th>276</th>\n      <td>2017-01-01</td>\n      <td>19190.431</td>\n      <td>198.548</td>\n    </tr>\n    <tr>\n      <th>277</th>\n      <td>2017-04-01</td>\n      <td>19356.649</td>\n      <td>166.218</td>\n    </tr>\n    <tr>\n      <th>278</th>\n      <td>2017-07-01</td>\n      <td>19611.704</td>\n      <td>255.055</td>\n    </tr>\n    <tr>\n      <th>279</th>\n      <td>2017-10-01</td>\n      <td>19918.910</td>\n      <td>307.206</td>\n    </tr>\n    <tr>\n      <th>280</th>\n      <td>2018-01-01</td>\n      <td>20163.159</td>\n      <td>244.249</td>\n    </tr>\n    <tr>\n      <th>281</th>\n      <td>2018-04-01</td>\n      <td>20510.177</td>\n      <td>347.018</td>\n    </tr>\n    <tr>\n      <th>282</th>\n      <td>2018-07-01</td>\n      <td>20749.752</td>\n      <td>239.575</td>\n    </tr>\n    <tr>\n      <th>283</th>\n      <td>2018-10-01</td>\n      <td>20897.804</td>\n      <td>148.052</td>\n    </tr>\n    <tr>\n      <th>284</th>\n      <td>2019-01-01</td>\n      <td>21098.827</td>\n      <td>201.023</td>\n    </tr>\n    <tr>\n      <th>285</th>\n      <td>2019-04-01</td>\n      <td>21340.267</td>\n      <td>241.440</td>\n    </tr>\n    <tr>\n      <th>286</th>\n      <td>2019-07-01</td>\n      <td>21525.819</td>\n      <td>185.552</td>\n    </tr>\n  </tbody>\n</table>\n<p>287 rows \u00d7 3 columns</p>\n</div>"
                    },
                    "metadata": {}
                }
            ]
        },
        {
            "metadata": {},
            "cell_type": "code",
            "source": "# import Unemployment rate data\nbody = client_61c7475c72374a1b9685e4af09d23afc.get_object(Bucket='jin-donotdelete-pr-he56bked6i8po3',Key='UNRATE-2.csv')['Body']\n# add missing __iter__ method, so pandas accepts body as file-like float\nif not hasattr(body, \"__iter__\"): body.__iter__ = types.MethodType( __iter__, body )\n\nUNRATE = pd.read_csv(body)\nUNRATE.head()   \n",
            "execution_count": 188,
            "outputs": [
                {
                    "output_type": "execute_result",
                    "execution_count": 188,
                    "data": {
                        "text/plain": "         DATE              UNRATE\n0  1948-01-01  3.7333333333333333\n1  1948-04-01  3.6666666666666667\n2  1948-07-01  3.7666666666666667\n3  1948-10-01  3.8333333333333333\n4  1949-01-01  4.6666666666666667",
                        "text/html": "<div>\n<style scoped>\n    .dataframe tbody tr th:only-of-type {\n        vertical-align: middle;\n    }\n\n    .dataframe tbody tr th {\n        vertical-align: top;\n    }\n\n    .dataframe thead th {\n        text-align: right;\n    }\n</style>\n<table border=\"1\" class=\"dataframe\">\n  <thead>\n    <tr style=\"text-align: right;\">\n      <th></th>\n      <th>DATE</th>\n      <th>UNRATE</th>\n    </tr>\n  </thead>\n  <tbody>\n    <tr>\n      <th>0</th>\n      <td>1948-01-01</td>\n      <td>3.7333333333333333</td>\n    </tr>\n    <tr>\n      <th>1</th>\n      <td>1948-04-01</td>\n      <td>3.6666666666666667</td>\n    </tr>\n    <tr>\n      <th>2</th>\n      <td>1948-07-01</td>\n      <td>3.7666666666666667</td>\n    </tr>\n    <tr>\n      <th>3</th>\n      <td>1948-10-01</td>\n      <td>3.8333333333333333</td>\n    </tr>\n    <tr>\n      <th>4</th>\n      <td>1949-01-01</td>\n      <td>4.6666666666666667</td>\n    </tr>\n  </tbody>\n</table>\n</div>"
                    },
                    "metadata": {}
                }
            ]
        },
        {
            "metadata": {},
            "cell_type": "code",
            "source": "len(UNRATE)  # find the lenght of the data",
            "execution_count": 189,
            "outputs": [
                {
                    "output_type": "execute_result",
                    "execution_count": 189,
                    "data": {
                        "text/plain": "288"
                    },
                    "metadata": {}
                }
            ]
        },
        {
            "metadata": {},
            "cell_type": "code",
            "source": "UNRATE=UNRATE.drop(UNRATE.index[287])   #drop the last row of the data",
            "execution_count": 192,
            "outputs": []
        },
        {
            "metadata": {},
            "cell_type": "code",
            "source": "UNRATE['UNRATE']=UNRATE['UNRATE'].astype('float')  #change data type\n",
            "execution_count": 193,
            "outputs": []
        },
        {
            "metadata": {},
            "cell_type": "code",
            "source": " UNRATE=UNRATE.sort_values(by=\"DATE\") # sort data\n",
            "execution_count": 194,
            "outputs": []
        },
        {
            "metadata": {},
            "cell_type": "code",
            "source": "UNRATE.head() # find the first 5 data\n",
            "execution_count": 195,
            "outputs": [
                {
                    "output_type": "execute_result",
                    "execution_count": 195,
                    "data": {
                        "text/plain": "         DATE    UNRATE\n0  1948-01-01  3.733333\n1  1948-04-01  3.666667\n2  1948-07-01  3.766667\n3  1948-10-01  3.833333\n4  1949-01-01  4.666667",
                        "text/html": "<div>\n<style scoped>\n    .dataframe tbody tr th:only-of-type {\n        vertical-align: middle;\n    }\n\n    .dataframe tbody tr th {\n        vertical-align: top;\n    }\n\n    .dataframe thead th {\n        text-align: right;\n    }\n</style>\n<table border=\"1\" class=\"dataframe\">\n  <thead>\n    <tr style=\"text-align: right;\">\n      <th></th>\n      <th>DATE</th>\n      <th>UNRATE</th>\n    </tr>\n  </thead>\n  <tbody>\n    <tr>\n      <th>0</th>\n      <td>1948-01-01</td>\n      <td>3.733333</td>\n    </tr>\n    <tr>\n      <th>1</th>\n      <td>1948-04-01</td>\n      <td>3.666667</td>\n    </tr>\n    <tr>\n      <th>2</th>\n      <td>1948-07-01</td>\n      <td>3.766667</td>\n    </tr>\n    <tr>\n      <th>3</th>\n      <td>1948-10-01</td>\n      <td>3.833333</td>\n    </tr>\n    <tr>\n      <th>4</th>\n      <td>1949-01-01</td>\n      <td>4.666667</td>\n    </tr>\n  </tbody>\n</table>\n</div>"
                    },
                    "metadata": {}
                }
            ]
        },
        {
            "metadata": {},
            "cell_type": "code",
            "source": "UNRATE1=UNRATE['UNRATE']  #extract UNRATE data\n",
            "execution_count": 196,
            "outputs": []
        },
        {
            "metadata": {},
            "cell_type": "code",
            "source": "UNRATE2=UNRATE1.diff(periods=1) #find unemployment change by difference UNRATE\n",
            "execution_count": 197,
            "outputs": []
        },
        {
            "metadata": {},
            "cell_type": "code",
            "source": "UNRATE['UNRATEDIFF']=UNRATE2\nUNRATE             # append UNRATEDIFF",
            "execution_count": 199,
            "outputs": [
                {
                    "output_type": "execute_result",
                    "execution_count": 199,
                    "data": {
                        "text/plain": "           DATE    UNRATE  UNRATEDIFF\n0    1948-01-01  3.733333         NaN\n1    1948-04-01  3.666667   -0.066667\n2    1948-07-01  3.766667    0.100000\n3    1948-10-01  3.833333    0.066667\n4    1949-01-01  4.666667    0.833333\n5    1949-04-01  5.866667    1.200000\n6    1949-07-01  6.700000    0.833333\n7    1949-10-01  6.966667    0.266667\n8    1950-01-01  6.400000   -0.566667\n9    1950-04-01  5.566667   -0.833333\n10   1950-07-01  4.633333   -0.933333\n11   1950-10-01  4.233333   -0.400000\n12   1951-01-01  3.500000   -0.733333\n13   1951-04-01  3.100000   -0.400000\n14   1951-07-01  3.166667    0.066667\n15   1951-10-01  3.366667    0.200000\n16   1952-01-01  3.066667   -0.300000\n17   1952-04-01  2.966667   -0.100000\n18   1952-07-01  3.233333    0.266667\n19   1952-10-01  2.833333   -0.400000\n20   1953-01-01  2.700000   -0.133333\n21   1953-04-01  2.566667   -0.133333\n22   1953-07-01  2.733333    0.166667\n23   1953-10-01  3.700000    0.966667\n24   1954-01-01  5.266667    1.566667\n25   1954-04-01  5.800000    0.533333\n26   1954-07-01  5.966667    0.166667\n27   1954-10-01  5.333333   -0.633333\n28   1955-01-01  4.733333   -0.600000\n29   1955-04-01  4.400000   -0.333333\n..          ...       ...         ...\n257  2012-04-01  8.200000   -0.066667\n258  2012-07-01  8.033333   -0.166667\n259  2012-10-01  7.800000   -0.233333\n260  2013-01-01  7.733333   -0.066667\n261  2013-04-01  7.533333   -0.200000\n262  2013-07-01  7.233333   -0.300000\n263  2013-10-01  6.933333   -0.300000\n264  2014-01-01  6.666667   -0.266667\n265  2014-04-01  6.200000   -0.466667\n266  2014-07-01  6.066667   -0.133333\n267  2014-10-01  5.700000   -0.366667\n268  2015-01-01  5.533333   -0.166667\n269  2015-04-01  5.433333   -0.100000\n270  2015-07-01  5.100000   -0.333333\n271  2015-10-01  5.033333   -0.066667\n272  2016-01-01  4.933333   -0.100000\n273  2016-04-01  4.900000   -0.033333\n274  2016-07-01  4.900000    0.000000\n275  2016-10-01  4.766667   -0.133333\n276  2017-01-01  4.600000   -0.166667\n277  2017-04-01  4.366667   -0.233333\n278  2017-07-01  4.300000   -0.066667\n279  2017-10-01  4.133333   -0.166667\n280  2018-01-01  4.066667   -0.066667\n281  2018-04-01  3.900000   -0.166667\n282  2018-07-01  3.800000   -0.100000\n283  2018-10-01  3.800000    0.000000\n284  2019-01-01  3.866667    0.066667\n285  2019-04-01  3.633333   -0.233333\n286  2019-07-01  3.633333    0.000000\n\n[287 rows x 3 columns]",
                        "text/html": "<div>\n<style scoped>\n    .dataframe tbody tr th:only-of-type {\n        vertical-align: middle;\n    }\n\n    .dataframe tbody tr th {\n        vertical-align: top;\n    }\n\n    .dataframe thead th {\n        text-align: right;\n    }\n</style>\n<table border=\"1\" class=\"dataframe\">\n  <thead>\n    <tr style=\"text-align: right;\">\n      <th></th>\n      <th>DATE</th>\n      <th>UNRATE</th>\n      <th>UNRATEDIFF</th>\n    </tr>\n  </thead>\n  <tbody>\n    <tr>\n      <th>0</th>\n      <td>1948-01-01</td>\n      <td>3.733333</td>\n      <td>NaN</td>\n    </tr>\n    <tr>\n      <th>1</th>\n      <td>1948-04-01</td>\n      <td>3.666667</td>\n      <td>-0.066667</td>\n    </tr>\n    <tr>\n      <th>2</th>\n      <td>1948-07-01</td>\n      <td>3.766667</td>\n      <td>0.100000</td>\n    </tr>\n    <tr>\n      <th>3</th>\n      <td>1948-10-01</td>\n      <td>3.833333</td>\n      <td>0.066667</td>\n    </tr>\n    <tr>\n      <th>4</th>\n      <td>1949-01-01</td>\n      <td>4.666667</td>\n      <td>0.833333</td>\n    </tr>\n    <tr>\n      <th>5</th>\n      <td>1949-04-01</td>\n      <td>5.866667</td>\n      <td>1.200000</td>\n    </tr>\n    <tr>\n      <th>6</th>\n      <td>1949-07-01</td>\n      <td>6.700000</td>\n      <td>0.833333</td>\n    </tr>\n    <tr>\n      <th>7</th>\n      <td>1949-10-01</td>\n      <td>6.966667</td>\n      <td>0.266667</td>\n    </tr>\n    <tr>\n      <th>8</th>\n      <td>1950-01-01</td>\n      <td>6.400000</td>\n      <td>-0.566667</td>\n    </tr>\n    <tr>\n      <th>9</th>\n      <td>1950-04-01</td>\n      <td>5.566667</td>\n      <td>-0.833333</td>\n    </tr>\n    <tr>\n      <th>10</th>\n      <td>1950-07-01</td>\n      <td>4.633333</td>\n      <td>-0.933333</td>\n    </tr>\n    <tr>\n      <th>11</th>\n      <td>1950-10-01</td>\n      <td>4.233333</td>\n      <td>-0.400000</td>\n    </tr>\n    <tr>\n      <th>12</th>\n      <td>1951-01-01</td>\n      <td>3.500000</td>\n      <td>-0.733333</td>\n    </tr>\n    <tr>\n      <th>13</th>\n      <td>1951-04-01</td>\n      <td>3.100000</td>\n      <td>-0.400000</td>\n    </tr>\n    <tr>\n      <th>14</th>\n      <td>1951-07-01</td>\n      <td>3.166667</td>\n      <td>0.066667</td>\n    </tr>\n    <tr>\n      <th>15</th>\n      <td>1951-10-01</td>\n      <td>3.366667</td>\n      <td>0.200000</td>\n    </tr>\n    <tr>\n      <th>16</th>\n      <td>1952-01-01</td>\n      <td>3.066667</td>\n      <td>-0.300000</td>\n    </tr>\n    <tr>\n      <th>17</th>\n      <td>1952-04-01</td>\n      <td>2.966667</td>\n      <td>-0.100000</td>\n    </tr>\n    <tr>\n      <th>18</th>\n      <td>1952-07-01</td>\n      <td>3.233333</td>\n      <td>0.266667</td>\n    </tr>\n    <tr>\n      <th>19</th>\n      <td>1952-10-01</td>\n      <td>2.833333</td>\n      <td>-0.400000</td>\n    </tr>\n    <tr>\n      <th>20</th>\n      <td>1953-01-01</td>\n      <td>2.700000</td>\n      <td>-0.133333</td>\n    </tr>\n    <tr>\n      <th>21</th>\n      <td>1953-04-01</td>\n      <td>2.566667</td>\n      <td>-0.133333</td>\n    </tr>\n    <tr>\n      <th>22</th>\n      <td>1953-07-01</td>\n      <td>2.733333</td>\n      <td>0.166667</td>\n    </tr>\n    <tr>\n      <th>23</th>\n      <td>1953-10-01</td>\n      <td>3.700000</td>\n      <td>0.966667</td>\n    </tr>\n    <tr>\n      <th>24</th>\n      <td>1954-01-01</td>\n      <td>5.266667</td>\n      <td>1.566667</td>\n    </tr>\n    <tr>\n      <th>25</th>\n      <td>1954-04-01</td>\n      <td>5.800000</td>\n      <td>0.533333</td>\n    </tr>\n    <tr>\n      <th>26</th>\n      <td>1954-07-01</td>\n      <td>5.966667</td>\n      <td>0.166667</td>\n    </tr>\n    <tr>\n      <th>27</th>\n      <td>1954-10-01</td>\n      <td>5.333333</td>\n      <td>-0.633333</td>\n    </tr>\n    <tr>\n      <th>28</th>\n      <td>1955-01-01</td>\n      <td>4.733333</td>\n      <td>-0.600000</td>\n    </tr>\n    <tr>\n      <th>29</th>\n      <td>1955-04-01</td>\n      <td>4.400000</td>\n      <td>-0.333333</td>\n    </tr>\n    <tr>\n      <th>...</th>\n      <td>...</td>\n      <td>...</td>\n      <td>...</td>\n    </tr>\n    <tr>\n      <th>257</th>\n      <td>2012-04-01</td>\n      <td>8.200000</td>\n      <td>-0.066667</td>\n    </tr>\n    <tr>\n      <th>258</th>\n      <td>2012-07-01</td>\n      <td>8.033333</td>\n      <td>-0.166667</td>\n    </tr>\n    <tr>\n      <th>259</th>\n      <td>2012-10-01</td>\n      <td>7.800000</td>\n      <td>-0.233333</td>\n    </tr>\n    <tr>\n      <th>260</th>\n      <td>2013-01-01</td>\n      <td>7.733333</td>\n      <td>-0.066667</td>\n    </tr>\n    <tr>\n      <th>261</th>\n      <td>2013-04-01</td>\n      <td>7.533333</td>\n      <td>-0.200000</td>\n    </tr>\n    <tr>\n      <th>262</th>\n      <td>2013-07-01</td>\n      <td>7.233333</td>\n      <td>-0.300000</td>\n    </tr>\n    <tr>\n      <th>263</th>\n      <td>2013-10-01</td>\n      <td>6.933333</td>\n      <td>-0.300000</td>\n    </tr>\n    <tr>\n      <th>264</th>\n      <td>2014-01-01</td>\n      <td>6.666667</td>\n      <td>-0.266667</td>\n    </tr>\n    <tr>\n      <th>265</th>\n      <td>2014-04-01</td>\n      <td>6.200000</td>\n      <td>-0.466667</td>\n    </tr>\n    <tr>\n      <th>266</th>\n      <td>2014-07-01</td>\n      <td>6.066667</td>\n      <td>-0.133333</td>\n    </tr>\n    <tr>\n      <th>267</th>\n      <td>2014-10-01</td>\n      <td>5.700000</td>\n      <td>-0.366667</td>\n    </tr>\n    <tr>\n      <th>268</th>\n      <td>2015-01-01</td>\n      <td>5.533333</td>\n      <td>-0.166667</td>\n    </tr>\n    <tr>\n      <th>269</th>\n      <td>2015-04-01</td>\n      <td>5.433333</td>\n      <td>-0.100000</td>\n    </tr>\n    <tr>\n      <th>270</th>\n      <td>2015-07-01</td>\n      <td>5.100000</td>\n      <td>-0.333333</td>\n    </tr>\n    <tr>\n      <th>271</th>\n      <td>2015-10-01</td>\n      <td>5.033333</td>\n      <td>-0.066667</td>\n    </tr>\n    <tr>\n      <th>272</th>\n      <td>2016-01-01</td>\n      <td>4.933333</td>\n      <td>-0.100000</td>\n    </tr>\n    <tr>\n      <th>273</th>\n      <td>2016-04-01</td>\n      <td>4.900000</td>\n      <td>-0.033333</td>\n    </tr>\n    <tr>\n      <th>274</th>\n      <td>2016-07-01</td>\n      <td>4.900000</td>\n      <td>0.000000</td>\n    </tr>\n    <tr>\n      <th>275</th>\n      <td>2016-10-01</td>\n      <td>4.766667</td>\n      <td>-0.133333</td>\n    </tr>\n    <tr>\n      <th>276</th>\n      <td>2017-01-01</td>\n      <td>4.600000</td>\n      <td>-0.166667</td>\n    </tr>\n    <tr>\n      <th>277</th>\n      <td>2017-04-01</td>\n      <td>4.366667</td>\n      <td>-0.233333</td>\n    </tr>\n    <tr>\n      <th>278</th>\n      <td>2017-07-01</td>\n      <td>4.300000</td>\n      <td>-0.066667</td>\n    </tr>\n    <tr>\n      <th>279</th>\n      <td>2017-10-01</td>\n      <td>4.133333</td>\n      <td>-0.166667</td>\n    </tr>\n    <tr>\n      <th>280</th>\n      <td>2018-01-01</td>\n      <td>4.066667</td>\n      <td>-0.066667</td>\n    </tr>\n    <tr>\n      <th>281</th>\n      <td>2018-04-01</td>\n      <td>3.900000</td>\n      <td>-0.166667</td>\n    </tr>\n    <tr>\n      <th>282</th>\n      <td>2018-07-01</td>\n      <td>3.800000</td>\n      <td>-0.100000</td>\n    </tr>\n    <tr>\n      <th>283</th>\n      <td>2018-10-01</td>\n      <td>3.800000</td>\n      <td>0.000000</td>\n    </tr>\n    <tr>\n      <th>284</th>\n      <td>2019-01-01</td>\n      <td>3.866667</td>\n      <td>0.066667</td>\n    </tr>\n    <tr>\n      <th>285</th>\n      <td>2019-04-01</td>\n      <td>3.633333</td>\n      <td>-0.233333</td>\n    </tr>\n    <tr>\n      <th>286</th>\n      <td>2019-07-01</td>\n      <td>3.633333</td>\n      <td>0.000000</td>\n    </tr>\n  </tbody>\n</table>\n<p>287 rows \u00d7 3 columns</p>\n</div>"
                    },
                    "metadata": {}
                }
            ]
        },
        {
            "metadata": {},
            "cell_type": "code",
            "source": "UNRATE3=UNRATE[UNRATE['UNRATE']>8.5]\nUNRATE3",
            "execution_count": 200,
            "outputs": [
                {
                    "output_type": "execute_result",
                    "execution_count": 200,
                    "data": {
                        "text/plain": "           DATE     UNRATE  UNRATEDIFF\n109  1975-04-01   8.866667    0.600000\n136  1982-01-01   8.833333    0.600000\n137  1982-04-01   9.433333    0.600000\n138  1982-07-01   9.900000    0.466667\n139  1982-10-01  10.666667    0.766667\n140  1983-01-01  10.366667   -0.300000\n141  1983-04-01  10.133333   -0.233333\n142  1983-07-01   9.366667   -0.766667\n143  1983-10-01   8.533333   -0.833333\n245  2009-04-01   9.300000    1.033333\n246  2009-07-01   9.633333    0.333333\n247  2009-10-01   9.933333    0.300000\n248  2010-01-01   9.833333   -0.100000\n249  2010-04-01   9.633333   -0.200000\n250  2010-07-01   9.466667   -0.166667\n251  2010-10-01   9.500000    0.033333\n252  2011-01-01   9.033333   -0.466667\n253  2011-04-01   9.066667    0.033333\n254  2011-07-01   9.000000   -0.066667\n255  2011-10-01   8.633333   -0.366667",
                        "text/html": "<div>\n<style scoped>\n    .dataframe tbody tr th:only-of-type {\n        vertical-align: middle;\n    }\n\n    .dataframe tbody tr th {\n        vertical-align: top;\n    }\n\n    .dataframe thead th {\n        text-align: right;\n    }\n</style>\n<table border=\"1\" class=\"dataframe\">\n  <thead>\n    <tr style=\"text-align: right;\">\n      <th></th>\n      <th>DATE</th>\n      <th>UNRATE</th>\n      <th>UNRATEDIFF</th>\n    </tr>\n  </thead>\n  <tbody>\n    <tr>\n      <th>109</th>\n      <td>1975-04-01</td>\n      <td>8.866667</td>\n      <td>0.600000</td>\n    </tr>\n    <tr>\n      <th>136</th>\n      <td>1982-01-01</td>\n      <td>8.833333</td>\n      <td>0.600000</td>\n    </tr>\n    <tr>\n      <th>137</th>\n      <td>1982-04-01</td>\n      <td>9.433333</td>\n      <td>0.600000</td>\n    </tr>\n    <tr>\n      <th>138</th>\n      <td>1982-07-01</td>\n      <td>9.900000</td>\n      <td>0.466667</td>\n    </tr>\n    <tr>\n      <th>139</th>\n      <td>1982-10-01</td>\n      <td>10.666667</td>\n      <td>0.766667</td>\n    </tr>\n    <tr>\n      <th>140</th>\n      <td>1983-01-01</td>\n      <td>10.366667</td>\n      <td>-0.300000</td>\n    </tr>\n    <tr>\n      <th>141</th>\n      <td>1983-04-01</td>\n      <td>10.133333</td>\n      <td>-0.233333</td>\n    </tr>\n    <tr>\n      <th>142</th>\n      <td>1983-07-01</td>\n      <td>9.366667</td>\n      <td>-0.766667</td>\n    </tr>\n    <tr>\n      <th>143</th>\n      <td>1983-10-01</td>\n      <td>8.533333</td>\n      <td>-0.833333</td>\n    </tr>\n    <tr>\n      <th>245</th>\n      <td>2009-04-01</td>\n      <td>9.300000</td>\n      <td>1.033333</td>\n    </tr>\n    <tr>\n      <th>246</th>\n      <td>2009-07-01</td>\n      <td>9.633333</td>\n      <td>0.333333</td>\n    </tr>\n    <tr>\n      <th>247</th>\n      <td>2009-10-01</td>\n      <td>9.933333</td>\n      <td>0.300000</td>\n    </tr>\n    <tr>\n      <th>248</th>\n      <td>2010-01-01</td>\n      <td>9.833333</td>\n      <td>-0.100000</td>\n    </tr>\n    <tr>\n      <th>249</th>\n      <td>2010-04-01</td>\n      <td>9.633333</td>\n      <td>-0.200000</td>\n    </tr>\n    <tr>\n      <th>250</th>\n      <td>2010-07-01</td>\n      <td>9.466667</td>\n      <td>-0.166667</td>\n    </tr>\n    <tr>\n      <th>251</th>\n      <td>2010-10-01</td>\n      <td>9.500000</td>\n      <td>0.033333</td>\n    </tr>\n    <tr>\n      <th>252</th>\n      <td>2011-01-01</td>\n      <td>9.033333</td>\n      <td>-0.466667</td>\n    </tr>\n    <tr>\n      <th>253</th>\n      <td>2011-04-01</td>\n      <td>9.066667</td>\n      <td>0.033333</td>\n    </tr>\n    <tr>\n      <th>254</th>\n      <td>2011-07-01</td>\n      <td>9.000000</td>\n      <td>-0.066667</td>\n    </tr>\n    <tr>\n      <th>255</th>\n      <td>2011-10-01</td>\n      <td>8.633333</td>\n      <td>-0.366667</td>\n    </tr>\n  </tbody>\n</table>\n</div>"
                    },
                    "metadata": {}
                }
            ]
        },
        {
            "metadata": {},
            "cell_type": "code",
            "source": "DATE=GDP['DATE'] #create date variable\n",
            "execution_count": 215,
            "outputs": []
        },
        {
            "metadata": {},
            "cell_type": "code",
            "source": "GDPDIFF=GDP['GDPDIFF']     #extract GDPDIFF and create it as a variable\nUNRATEDIFF=UNRATE['UNRATEDIFF'] # extract UNRATEDIFF and create it as a variable",
            "execution_count": 202,
            "outputs": []
        },
        {
            "metadata": {},
            "cell_type": "code",
            "source": "title='GPD Change and Unemployment Rate change'  #create title",
            "execution_count": 203,
            "outputs": []
        },
        {
            "metadata": {},
            "cell_type": "code",
            "source": "from bokeh.plotting import figure, output_file, show #import plotting tool",
            "execution_count": 204,
            "outputs": []
        },
        {
            "metadata": {},
            "cell_type": "code",
            "source": "file_name=\"index.html\" #create file name",
            "execution_count": 205,
            "outputs": []
        },
        {
            "metadata": {},
            "cell_type": "code",
            "source": "def make_dashboard(x, gdp_change, unemployment, title, file_name):\n    output_file(file_name)\n    p = figure(title=title, x_axis_label='year', y_axis_label='%')\n    p.line(x.squeeze(), gdp_change.squeeze(), color=\"firebrick\", line_width=4, legend=\"% GDP change\")\n    p.line(x.squeeze(), unemployment.squeeze(), line_width=4, legend=\"% unemployed\")\n    show(p)  #define make_dashboard function",
            "execution_count": 206,
            "outputs": []
        },
        {
            "metadata": {},
            "cell_type": "code",
            "source": "make_dashboard(x=DATE,gdp_change=GDPDIFF,unemployment=UNRATEDIFF,title='GPD Change and Unemployment Rate change',file_name=\"index.html\")\n#make dashboard",
            "execution_count": 214,
            "outputs": []
        },
        {
            "metadata": {},
            "cell_type": "code",
            "source": "",
            "execution_count": null,
            "outputs": []
        }
    ],
    "metadata": {
        "kernelspec": {
            "name": "python3",
            "display_name": "Python 3.6",
            "language": "python"
        },
        "language_info": {
            "name": "python",
            "version": "3.6.8",
            "mimetype": "text/x-python",
            "codemirror_mode": {
                "name": "ipython",
                "version": 3
            },
            "pygments_lexer": "ipython3",
            "nbconvert_exporter": "python",
            "file_extension": ".py"
        }
    },
    "nbformat": 4,
    "nbformat_minor": 1
}